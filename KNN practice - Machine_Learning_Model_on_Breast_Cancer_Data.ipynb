{
 "cells": [
  {
   "cell_type": "markdown",
   "id": "a4e97afb",
   "metadata": {},
   "source": [
    "# 목표 : K-Nearest Neighbor 모델 구축\n",
    "# 1. 데이터 전처리 \n",
    "# 2. K-Nearest Neighbor 모델 구축 \n",
    "## K-fold cross validation 활용\n",
    "### - k 개수 선정 \" 인접한 학습데이터를 몇 개까지 탐색할 것인가?\"\n",
    "### - Distance measure 선정 \"데이터 간 거리를 어떻게 측정할 것인가?\" \n",
    "# 3. 예측 결과 평가 및 weighted KNN 구축 "
   ]
  },
  {
   "cell_type": "markdown",
   "id": "c8071213",
   "metadata": {},
   "source": [
    "# ----------------------------------------------------------"
   ]
  },
  {
   "cell_type": "markdown",
   "id": "09fc9d69",
   "metadata": {},
   "source": [
    "# 1. 모듈 불러오기"
   ]
  },
  {
   "cell_type": "code",
   "execution_count": 93,
   "id": "ed69904c",
   "metadata": {},
   "outputs": [],
   "source": [
    "from IPython.display import display, HTML\n",
    "import warnings\n",
    "warnings.filterwarnings(action=\"ignore\")\n",
    "\n",
    "#실습용 데이터 전처리\n",
    "from sklearn.datasets import load_breast_cancer\n",
    "\n",
    "#데이터 전처리 \n",
    "import numpy as np\n",
    "import pandas as pd \n",
    "from sklearn.preprocessing import StandardScaler\n",
    "\n",
    "#기계학습 모델 및 평가 \n",
    "from sklearn.model_selection import cross_val_score\n",
    "from sklearn.model_selection import train_test_split \n",
    "from sklearn.neighbors import KNeighborsClassifier\n",
    "from sklearn.neighbors import NearestNeighbors\n",
    "from sklearn.metrics import accuracy_score, recall_score, precision_score\n",
    "from tqdm import tqdm\n",
    "\n",
    "from sklearn.neighbors import NearestNeighbors\n",
    "from sklearn.model_selection import KFold\n",
    "from scipy.stats import spearmanr\n",
    "\n",
    "#시각화\n",
    "import seaborn as sns\n",
    "import matplotlib.pyplot as plt\n",
    "import matplotlib.patches as mpatches\n",
    "import matplotlib\n",
    "from matplotlib.colors import ListedColormap\n",
    "matplotlib.rcParams[\"axes.unicode_minus\"] = False # 그래프에서 마이너스 폰트 깨지는 문제에 대한 대처\n",
    "\n",
    "#한글폰트설정 \n",
    "plt.rc(\"font\", family=\"Malgun Gothic\")\n",
    "\n"
   ]
  },
  {
   "cell_type": "markdown",
   "id": "500f0f54",
   "metadata": {},
   "source": [
    "# 2. 데이터 불러오기 : Breast Cancer"
   ]
  },
  {
   "cell_type": "code",
   "execution_count": 94,
   "id": "28a6f912",
   "metadata": {
    "scrolled": false
   },
   "outputs": [
    {
     "name": "stdout",
     "output_type": "stream",
     "text": [
      ".. _breast_cancer_dataset:\n",
      "\n",
      "Breast cancer wisconsin (diagnostic) dataset\n",
      "--------------------------------------------\n",
      "\n",
      "**Data Set Characteristics:**\n",
      "\n",
      "    :Number of Instances: 569\n",
      "\n",
      "    :Number of Attributes: 30 numeric, predictive attributes and the class\n",
      "\n",
      "    :Attribute Information:\n",
      "        - radius (mean of distances from center to points on the perimeter)\n",
      "        - texture (standard deviation of gray-scale values)\n",
      "        - perimeter\n",
      "        - area\n",
      "        - smoothness (local variation in radius lengths)\n",
      "        - compactness (perimeter^2 / area - 1.0)\n",
      "        - concavity (severity of concave portions of the contour)\n",
      "        - concave points (number of concave portions of the contour)\n",
      "        - symmetry\n",
      "        - fractal dimension (\"coastline approximation\" - 1)\n",
      "\n",
      "        The mean, standard error, and \"worst\" or largest (mean of the three\n",
      "        worst/largest values) of these features were computed for each image,\n",
      "        resulting in 30 features.  For instance, field 0 is Mean Radius, field\n",
      "        10 is Radius SE, field 20 is Worst Radius.\n",
      "\n",
      "        - class:\n",
      "                - WDBC-Malignant\n",
      "                - WDBC-Benign\n",
      "\n",
      "    :Summary Statistics:\n",
      "\n",
      "    ===================================== ====== ======\n",
      "                                           Min    Max\n",
      "    ===================================== ====== ======\n",
      "    radius (mean):                        6.981  28.11\n",
      "    texture (mean):                       9.71   39.28\n",
      "    perimeter (mean):                     43.79  188.5\n",
      "    area (mean):                          143.5  2501.0\n",
      "    smoothness (mean):                    0.053  0.163\n",
      "    compactness (mean):                   0.019  0.345\n",
      "    concavity (mean):                     0.0    0.427\n",
      "    concave points (mean):                0.0    0.201\n",
      "    symmetry (mean):                      0.106  0.304\n",
      "    fractal dimension (mean):             0.05   0.097\n",
      "    radius (standard error):              0.112  2.873\n",
      "    texture (standard error):             0.36   4.885\n",
      "    perimeter (standard error):           0.757  21.98\n",
      "    area (standard error):                6.802  542.2\n",
      "    smoothness (standard error):          0.002  0.031\n",
      "    compactness (standard error):         0.002  0.135\n",
      "    concavity (standard error):           0.0    0.396\n",
      "    concave points (standard error):      0.0    0.053\n",
      "    symmetry (standard error):            0.008  0.079\n",
      "    fractal dimension (standard error):   0.001  0.03\n",
      "    radius (worst):                       7.93   36.04\n",
      "    texture (worst):                      12.02  49.54\n",
      "    perimeter (worst):                    50.41  251.2\n",
      "    area (worst):                         185.2  4254.0\n",
      "    smoothness (worst):                   0.071  0.223\n",
      "    compactness (worst):                  0.027  1.058\n",
      "    concavity (worst):                    0.0    1.252\n",
      "    concave points (worst):               0.0    0.291\n",
      "    symmetry (worst):                     0.156  0.664\n",
      "    fractal dimension (worst):            0.055  0.208\n",
      "    ===================================== ====== ======\n",
      "\n",
      "    :Missing Attribute Values: None\n",
      "\n",
      "    :Class Distribution: 212 - Malignant, 357 - Benign\n",
      "\n",
      "    :Creator:  Dr. William H. Wolberg, W. Nick Street, Olvi L. Mangasarian\n",
      "\n",
      "    :Donor: Nick Street\n",
      "\n",
      "    :Date: November, 1995\n",
      "\n",
      "This is a copy of UCI ML Breast Cancer Wisconsin (Diagnostic) datasets.\n",
      "https://goo.gl/U2Uwz2\n",
      "\n",
      "Features are computed from a digitized image of a fine needle\n",
      "aspirate (FNA) of a breast mass.  They describe\n",
      "characteristics of the cell nuclei present in the image.\n",
      "\n",
      "Separating plane described above was obtained using\n",
      "Multisurface Method-Tree (MSM-T) [K. P. Bennett, \"Decision Tree\n",
      "Construction Via Linear Programming.\" Proceedings of the 4th\n",
      "Midwest Artificial Intelligence and Cognitive Science Society,\n",
      "pp. 97-101, 1992], a classification method which uses linear\n",
      "programming to construct a decision tree.  Relevant features\n",
      "were selected using an exhaustive search in the space of 1-4\n",
      "features and 1-3 separating planes.\n",
      "\n",
      "The actual linear program used to obtain the separating plane\n",
      "in the 3-dimensional space is that described in:\n",
      "[K. P. Bennett and O. L. Mangasarian: \"Robust Linear\n",
      "Programming Discrimination of Two Linearly Inseparable Sets\",\n",
      "Optimization Methods and Software 1, 1992, 23-34].\n",
      "\n",
      "This database is also available through the UW CS ftp server:\n",
      "\n",
      "ftp ftp.cs.wisc.edu\n",
      "cd math-prog/cpo-dataset/machine-learn/WDBC/\n",
      "\n",
      ".. topic:: References\n",
      "\n",
      "   - W.N. Street, W.H. Wolberg and O.L. Mangasarian. Nuclear feature extraction \n",
      "     for breast tumor diagnosis. IS&T/SPIE 1993 International Symposium on \n",
      "     Electronic Imaging: Science and Technology, volume 1905, pages 861-870,\n",
      "     San Jose, CA, 1993.\n",
      "   - O.L. Mangasarian, W.N. Street and W.H. Wolberg. Breast cancer diagnosis and \n",
      "     prognosis via linear programming. Operations Research, 43(4), pages 570-577, \n",
      "     July-August 1995.\n",
      "   - W.H. Wolberg, W.N. Street, and O.L. Mangasarian. Machine learning techniques\n",
      "     to diagnose breast cancer from fine-needle aspirates. Cancer Letters 77 (1994) \n",
      "     163-171.\n"
     ]
    }
   ],
   "source": [
    "from sklearn.datasets import load_breast_cancer\n",
    "breast_cancer = load_breast_cancer()\n",
    "print(breast_cancer.DESCR)"
   ]
  },
  {
   "cell_type": "markdown",
   "id": "a5123732",
   "metadata": {},
   "source": [
    "## 데이터 구조\n",
    "### - 데이터: 위스콘신 대학교에서 제공한 유방암 진단결과\n",
    "### - 관측치 개수: 569개\n",
    "### - 변수 개수: 32개(ID:진단결과, 30개의 실측변수값)\n",
    "\n",
    "\n",
    "## 설명변수(원인: 예측값을 설명할 수 있는 변수) \n",
    "### - id : 환자 식별 번호\n",
    "### - radius : 반경(중심에서 외벽까지 거리들의 평균값)\n",
    "### - texture : 질감(Gray-Scale 값들의 표준편차)\n",
    "### - perimeter : 둘레\n",
    "### - area : 면적\n",
    "### - smoothness : 매끄러움(반경길이의 소극적 변화)\n",
    "### - compactness : 조그만 정도(둘레^2/면적-1)\n",
    "### - concavity : 오목함(윤곽의 오목한 정도)\n",
    "### - points : 오목한 점의 수\n",
    "### - symmetry : 대칭\n",
    "### - dimension : 프렉탈 차원(해안선 근사-1)\n",
    "### - mean : 3~12번 까지는 평균값을 의미\n",
    "### - se : 13~22번까지는 표준오차를 의미 \n",
    "### - worst : 23~32는 각 세포별 구분들에서 제일 큰 3개의 값을 평균낸 값\n",
    "\n",
    "\n",
    "## 반응 변수(결과: 예측하고자 하는 값)\n",
    "### - diagnosis : 양성여부(Maligant = 1 악성(유방암), Benign=0 양성(단순낭종))"
   ]
  },
  {
   "cell_type": "code",
   "execution_count": 95,
   "id": "488d45e9",
   "metadata": {},
   "outputs": [
    {
     "data": {
      "text/plain": [
       "(569, 30)"
      ]
     },
     "execution_count": 95,
     "metadata": {},
     "output_type": "execute_result"
    }
   ],
   "source": [
    "breast_cancer.data.shape"
   ]
  },
  {
   "cell_type": "markdown",
   "id": "14053692",
   "metadata": {},
   "source": [
    "# 3. 탐색적 데이터 분석 및 데이터 전처리 \n",
    "## X: 독립변수,예측변수,입력변수 \n",
    "## y: 종속변수,반응변수,출력변수 \n"
   ]
  },
  {
   "cell_type": "code",
   "execution_count": 96,
   "id": "e29fe192",
   "metadata": {},
   "outputs": [],
   "source": [
    "#데이터 프레임 형태로 변환 \n",
    "X = pd.DataFrame(breast_cancer.data, columns=breast_cancer.feature_names)\n",
    "y = pd.DataFrame(breast_cancer.target, columns=['diagnosis'])"
   ]
  },
  {
   "cell_type": "code",
   "execution_count": 97,
   "id": "13e898f1",
   "metadata": {},
   "outputs": [
    {
     "data": {
      "text/html": [
       "<div>\n",
       "<style scoped>\n",
       "    .dataframe tbody tr th:only-of-type {\n",
       "        vertical-align: middle;\n",
       "    }\n",
       "\n",
       "    .dataframe tbody tr th {\n",
       "        vertical-align: top;\n",
       "    }\n",
       "\n",
       "    .dataframe thead th {\n",
       "        text-align: right;\n",
       "    }\n",
       "</style>\n",
       "<table border=\"1\" class=\"dataframe\">\n",
       "  <thead>\n",
       "    <tr style=\"text-align: right;\">\n",
       "      <th></th>\n",
       "      <th>mean radius</th>\n",
       "      <th>mean texture</th>\n",
       "      <th>mean perimeter</th>\n",
       "      <th>mean area</th>\n",
       "      <th>mean smoothness</th>\n",
       "      <th>mean compactness</th>\n",
       "      <th>mean concavity</th>\n",
       "      <th>mean concave points</th>\n",
       "      <th>mean symmetry</th>\n",
       "      <th>mean fractal dimension</th>\n",
       "      <th>...</th>\n",
       "      <th>worst radius</th>\n",
       "      <th>worst texture</th>\n",
       "      <th>worst perimeter</th>\n",
       "      <th>worst area</th>\n",
       "      <th>worst smoothness</th>\n",
       "      <th>worst compactness</th>\n",
       "      <th>worst concavity</th>\n",
       "      <th>worst concave points</th>\n",
       "      <th>worst symmetry</th>\n",
       "      <th>worst fractal dimension</th>\n",
       "    </tr>\n",
       "  </thead>\n",
       "  <tbody>\n",
       "    <tr>\n",
       "      <th>0</th>\n",
       "      <td>17.99</td>\n",
       "      <td>10.38</td>\n",
       "      <td>122.80</td>\n",
       "      <td>1001.0</td>\n",
       "      <td>0.11840</td>\n",
       "      <td>0.27760</td>\n",
       "      <td>0.3001</td>\n",
       "      <td>0.14710</td>\n",
       "      <td>0.2419</td>\n",
       "      <td>0.07871</td>\n",
       "      <td>...</td>\n",
       "      <td>25.38</td>\n",
       "      <td>17.33</td>\n",
       "      <td>184.60</td>\n",
       "      <td>2019.0</td>\n",
       "      <td>0.1622</td>\n",
       "      <td>0.6656</td>\n",
       "      <td>0.7119</td>\n",
       "      <td>0.2654</td>\n",
       "      <td>0.4601</td>\n",
       "      <td>0.11890</td>\n",
       "    </tr>\n",
       "    <tr>\n",
       "      <th>1</th>\n",
       "      <td>20.57</td>\n",
       "      <td>17.77</td>\n",
       "      <td>132.90</td>\n",
       "      <td>1326.0</td>\n",
       "      <td>0.08474</td>\n",
       "      <td>0.07864</td>\n",
       "      <td>0.0869</td>\n",
       "      <td>0.07017</td>\n",
       "      <td>0.1812</td>\n",
       "      <td>0.05667</td>\n",
       "      <td>...</td>\n",
       "      <td>24.99</td>\n",
       "      <td>23.41</td>\n",
       "      <td>158.80</td>\n",
       "      <td>1956.0</td>\n",
       "      <td>0.1238</td>\n",
       "      <td>0.1866</td>\n",
       "      <td>0.2416</td>\n",
       "      <td>0.1860</td>\n",
       "      <td>0.2750</td>\n",
       "      <td>0.08902</td>\n",
       "    </tr>\n",
       "    <tr>\n",
       "      <th>2</th>\n",
       "      <td>19.69</td>\n",
       "      <td>21.25</td>\n",
       "      <td>130.00</td>\n",
       "      <td>1203.0</td>\n",
       "      <td>0.10960</td>\n",
       "      <td>0.15990</td>\n",
       "      <td>0.1974</td>\n",
       "      <td>0.12790</td>\n",
       "      <td>0.2069</td>\n",
       "      <td>0.05999</td>\n",
       "      <td>...</td>\n",
       "      <td>23.57</td>\n",
       "      <td>25.53</td>\n",
       "      <td>152.50</td>\n",
       "      <td>1709.0</td>\n",
       "      <td>0.1444</td>\n",
       "      <td>0.4245</td>\n",
       "      <td>0.4504</td>\n",
       "      <td>0.2430</td>\n",
       "      <td>0.3613</td>\n",
       "      <td>0.08758</td>\n",
       "    </tr>\n",
       "    <tr>\n",
       "      <th>3</th>\n",
       "      <td>11.42</td>\n",
       "      <td>20.38</td>\n",
       "      <td>77.58</td>\n",
       "      <td>386.1</td>\n",
       "      <td>0.14250</td>\n",
       "      <td>0.28390</td>\n",
       "      <td>0.2414</td>\n",
       "      <td>0.10520</td>\n",
       "      <td>0.2597</td>\n",
       "      <td>0.09744</td>\n",
       "      <td>...</td>\n",
       "      <td>14.91</td>\n",
       "      <td>26.50</td>\n",
       "      <td>98.87</td>\n",
       "      <td>567.7</td>\n",
       "      <td>0.2098</td>\n",
       "      <td>0.8663</td>\n",
       "      <td>0.6869</td>\n",
       "      <td>0.2575</td>\n",
       "      <td>0.6638</td>\n",
       "      <td>0.17300</td>\n",
       "    </tr>\n",
       "    <tr>\n",
       "      <th>4</th>\n",
       "      <td>20.29</td>\n",
       "      <td>14.34</td>\n",
       "      <td>135.10</td>\n",
       "      <td>1297.0</td>\n",
       "      <td>0.10030</td>\n",
       "      <td>0.13280</td>\n",
       "      <td>0.1980</td>\n",
       "      <td>0.10430</td>\n",
       "      <td>0.1809</td>\n",
       "      <td>0.05883</td>\n",
       "      <td>...</td>\n",
       "      <td>22.54</td>\n",
       "      <td>16.67</td>\n",
       "      <td>152.20</td>\n",
       "      <td>1575.0</td>\n",
       "      <td>0.1374</td>\n",
       "      <td>0.2050</td>\n",
       "      <td>0.4000</td>\n",
       "      <td>0.1625</td>\n",
       "      <td>0.2364</td>\n",
       "      <td>0.07678</td>\n",
       "    </tr>\n",
       "  </tbody>\n",
       "</table>\n",
       "<p>5 rows × 30 columns</p>\n",
       "</div>"
      ],
      "text/plain": [
       "   mean radius  mean texture  mean perimeter  mean area  mean smoothness  \\\n",
       "0        17.99         10.38          122.80     1001.0          0.11840   \n",
       "1        20.57         17.77          132.90     1326.0          0.08474   \n",
       "2        19.69         21.25          130.00     1203.0          0.10960   \n",
       "3        11.42         20.38           77.58      386.1          0.14250   \n",
       "4        20.29         14.34          135.10     1297.0          0.10030   \n",
       "\n",
       "   mean compactness  mean concavity  mean concave points  mean symmetry  \\\n",
       "0           0.27760          0.3001              0.14710         0.2419   \n",
       "1           0.07864          0.0869              0.07017         0.1812   \n",
       "2           0.15990          0.1974              0.12790         0.2069   \n",
       "3           0.28390          0.2414              0.10520         0.2597   \n",
       "4           0.13280          0.1980              0.10430         0.1809   \n",
       "\n",
       "   mean fractal dimension  ...  worst radius  worst texture  worst perimeter  \\\n",
       "0                 0.07871  ...         25.38          17.33           184.60   \n",
       "1                 0.05667  ...         24.99          23.41           158.80   \n",
       "2                 0.05999  ...         23.57          25.53           152.50   \n",
       "3                 0.09744  ...         14.91          26.50            98.87   \n",
       "4                 0.05883  ...         22.54          16.67           152.20   \n",
       "\n",
       "   worst area  worst smoothness  worst compactness  worst concavity  \\\n",
       "0      2019.0            0.1622             0.6656           0.7119   \n",
       "1      1956.0            0.1238             0.1866           0.2416   \n",
       "2      1709.0            0.1444             0.4245           0.4504   \n",
       "3       567.7            0.2098             0.8663           0.6869   \n",
       "4      1575.0            0.1374             0.2050           0.4000   \n",
       "\n",
       "   worst concave points  worst symmetry  worst fractal dimension  \n",
       "0                0.2654          0.4601                  0.11890  \n",
       "1                0.1860          0.2750                  0.08902  \n",
       "2                0.2430          0.3613                  0.08758  \n",
       "3                0.2575          0.6638                  0.17300  \n",
       "4                0.1625          0.2364                  0.07678  \n",
       "\n",
       "[5 rows x 30 columns]"
      ]
     },
     "execution_count": 97,
     "metadata": {},
     "output_type": "execute_result"
    }
   ],
   "source": [
    "X.head()"
   ]
  },
  {
   "cell_type": "code",
   "execution_count": 98,
   "id": "85cfca9e",
   "metadata": {},
   "outputs": [
    {
     "data": {
      "text/html": [
       "<div>\n",
       "<style scoped>\n",
       "    .dataframe tbody tr th:only-of-type {\n",
       "        vertical-align: middle;\n",
       "    }\n",
       "\n",
       "    .dataframe tbody tr th {\n",
       "        vertical-align: top;\n",
       "    }\n",
       "\n",
       "    .dataframe thead th {\n",
       "        text-align: right;\n",
       "    }\n",
       "</style>\n",
       "<table border=\"1\" class=\"dataframe\">\n",
       "  <thead>\n",
       "    <tr style=\"text-align: right;\">\n",
       "      <th></th>\n",
       "      <th>diagnosis</th>\n",
       "    </tr>\n",
       "  </thead>\n",
       "  <tbody>\n",
       "    <tr>\n",
       "      <th>564</th>\n",
       "      <td>0</td>\n",
       "    </tr>\n",
       "    <tr>\n",
       "      <th>565</th>\n",
       "      <td>0</td>\n",
       "    </tr>\n",
       "    <tr>\n",
       "      <th>566</th>\n",
       "      <td>0</td>\n",
       "    </tr>\n",
       "    <tr>\n",
       "      <th>567</th>\n",
       "      <td>0</td>\n",
       "    </tr>\n",
       "    <tr>\n",
       "      <th>568</th>\n",
       "      <td>1</td>\n",
       "    </tr>\n",
       "  </tbody>\n",
       "</table>\n",
       "</div>"
      ],
      "text/plain": [
       "     diagnosis\n",
       "564          0\n",
       "565          0\n",
       "566          0\n",
       "567          0\n",
       "568          1"
      ]
     },
     "execution_count": 98,
     "metadata": {},
     "output_type": "execute_result"
    }
   ],
   "source": [
    "y.tail()"
   ]
  },
  {
   "cell_type": "markdown",
   "id": "cc877636",
   "metadata": {},
   "source": [
    "# 결측치(손실데이터), 데이터 타입 확인"
   ]
  },
  {
   "cell_type": "code",
   "execution_count": 99,
   "id": "f77fd6c6",
   "metadata": {},
   "outputs": [
    {
     "name": "stdout",
     "output_type": "stream",
     "text": [
      "<class 'pandas.core.frame.DataFrame'>\n",
      "RangeIndex: 569 entries, 0 to 568\n",
      "Data columns (total 30 columns):\n",
      " #   Column                   Non-Null Count  Dtype  \n",
      "---  ------                   --------------  -----  \n",
      " 0   mean radius              569 non-null    float64\n",
      " 1   mean texture             569 non-null    float64\n",
      " 2   mean perimeter           569 non-null    float64\n",
      " 3   mean area                569 non-null    float64\n",
      " 4   mean smoothness          569 non-null    float64\n",
      " 5   mean compactness         569 non-null    float64\n",
      " 6   mean concavity           569 non-null    float64\n",
      " 7   mean concave points      569 non-null    float64\n",
      " 8   mean symmetry            569 non-null    float64\n",
      " 9   mean fractal dimension   569 non-null    float64\n",
      " 10  radius error             569 non-null    float64\n",
      " 11  texture error            569 non-null    float64\n",
      " 12  perimeter error          569 non-null    float64\n",
      " 13  area error               569 non-null    float64\n",
      " 14  smoothness error         569 non-null    float64\n",
      " 15  compactness error        569 non-null    float64\n",
      " 16  concavity error          569 non-null    float64\n",
      " 17  concave points error     569 non-null    float64\n",
      " 18  symmetry error           569 non-null    float64\n",
      " 19  fractal dimension error  569 non-null    float64\n",
      " 20  worst radius             569 non-null    float64\n",
      " 21  worst texture            569 non-null    float64\n",
      " 22  worst perimeter          569 non-null    float64\n",
      " 23  worst area               569 non-null    float64\n",
      " 24  worst smoothness         569 non-null    float64\n",
      " 25  worst compactness        569 non-null    float64\n",
      " 26  worst concavity          569 non-null    float64\n",
      " 27  worst concave points     569 non-null    float64\n",
      " 28  worst symmetry           569 non-null    float64\n",
      " 29  worst fractal dimension  569 non-null    float64\n",
      "dtypes: float64(30)\n",
      "memory usage: 133.5 KB\n"
     ]
    }
   ],
   "source": [
    "X.info()"
   ]
  },
  {
   "cell_type": "code",
   "execution_count": 100,
   "id": "f3806916",
   "metadata": {},
   "outputs": [
    {
     "data": {
      "text/html": [
       "<div>\n",
       "<style scoped>\n",
       "    .dataframe tbody tr th:only-of-type {\n",
       "        vertical-align: middle;\n",
       "    }\n",
       "\n",
       "    .dataframe tbody tr th {\n",
       "        vertical-align: top;\n",
       "    }\n",
       "\n",
       "    .dataframe thead th {\n",
       "        text-align: right;\n",
       "    }\n",
       "</style>\n",
       "<table border=\"1\" class=\"dataframe\">\n",
       "  <thead>\n",
       "    <tr style=\"text-align: right;\">\n",
       "      <th></th>\n",
       "      <th>mean radius</th>\n",
       "      <th>mean texture</th>\n",
       "      <th>mean perimeter</th>\n",
       "      <th>mean area</th>\n",
       "      <th>mean smoothness</th>\n",
       "      <th>mean compactness</th>\n",
       "      <th>mean concavity</th>\n",
       "      <th>mean concave points</th>\n",
       "      <th>mean symmetry</th>\n",
       "      <th>mean fractal dimension</th>\n",
       "      <th>...</th>\n",
       "      <th>worst radius</th>\n",
       "      <th>worst texture</th>\n",
       "      <th>worst perimeter</th>\n",
       "      <th>worst area</th>\n",
       "      <th>worst smoothness</th>\n",
       "      <th>worst compactness</th>\n",
       "      <th>worst concavity</th>\n",
       "      <th>worst concave points</th>\n",
       "      <th>worst symmetry</th>\n",
       "      <th>worst fractal dimension</th>\n",
       "    </tr>\n",
       "  </thead>\n",
       "  <tbody>\n",
       "    <tr>\n",
       "      <th>count</th>\n",
       "      <td>569.000000</td>\n",
       "      <td>569.000000</td>\n",
       "      <td>569.000000</td>\n",
       "      <td>569.000000</td>\n",
       "      <td>569.000000</td>\n",
       "      <td>569.000000</td>\n",
       "      <td>569.000000</td>\n",
       "      <td>569.000000</td>\n",
       "      <td>569.000000</td>\n",
       "      <td>569.000000</td>\n",
       "      <td>...</td>\n",
       "      <td>569.000000</td>\n",
       "      <td>569.000000</td>\n",
       "      <td>569.000000</td>\n",
       "      <td>569.000000</td>\n",
       "      <td>569.000000</td>\n",
       "      <td>569.000000</td>\n",
       "      <td>569.000000</td>\n",
       "      <td>569.000000</td>\n",
       "      <td>569.000000</td>\n",
       "      <td>569.000000</td>\n",
       "    </tr>\n",
       "    <tr>\n",
       "      <th>mean</th>\n",
       "      <td>14.127292</td>\n",
       "      <td>19.289649</td>\n",
       "      <td>91.969033</td>\n",
       "      <td>654.889104</td>\n",
       "      <td>0.096360</td>\n",
       "      <td>0.104341</td>\n",
       "      <td>0.088799</td>\n",
       "      <td>0.048919</td>\n",
       "      <td>0.181162</td>\n",
       "      <td>0.062798</td>\n",
       "      <td>...</td>\n",
       "      <td>16.269190</td>\n",
       "      <td>25.677223</td>\n",
       "      <td>107.261213</td>\n",
       "      <td>880.583128</td>\n",
       "      <td>0.132369</td>\n",
       "      <td>0.254265</td>\n",
       "      <td>0.272188</td>\n",
       "      <td>0.114606</td>\n",
       "      <td>0.290076</td>\n",
       "      <td>0.083946</td>\n",
       "    </tr>\n",
       "    <tr>\n",
       "      <th>std</th>\n",
       "      <td>3.524049</td>\n",
       "      <td>4.301036</td>\n",
       "      <td>24.298981</td>\n",
       "      <td>351.914129</td>\n",
       "      <td>0.014064</td>\n",
       "      <td>0.052813</td>\n",
       "      <td>0.079720</td>\n",
       "      <td>0.038803</td>\n",
       "      <td>0.027414</td>\n",
       "      <td>0.007060</td>\n",
       "      <td>...</td>\n",
       "      <td>4.833242</td>\n",
       "      <td>6.146258</td>\n",
       "      <td>33.602542</td>\n",
       "      <td>569.356993</td>\n",
       "      <td>0.022832</td>\n",
       "      <td>0.157336</td>\n",
       "      <td>0.208624</td>\n",
       "      <td>0.065732</td>\n",
       "      <td>0.061867</td>\n",
       "      <td>0.018061</td>\n",
       "    </tr>\n",
       "    <tr>\n",
       "      <th>min</th>\n",
       "      <td>6.981000</td>\n",
       "      <td>9.710000</td>\n",
       "      <td>43.790000</td>\n",
       "      <td>143.500000</td>\n",
       "      <td>0.052630</td>\n",
       "      <td>0.019380</td>\n",
       "      <td>0.000000</td>\n",
       "      <td>0.000000</td>\n",
       "      <td>0.106000</td>\n",
       "      <td>0.049960</td>\n",
       "      <td>...</td>\n",
       "      <td>7.930000</td>\n",
       "      <td>12.020000</td>\n",
       "      <td>50.410000</td>\n",
       "      <td>185.200000</td>\n",
       "      <td>0.071170</td>\n",
       "      <td>0.027290</td>\n",
       "      <td>0.000000</td>\n",
       "      <td>0.000000</td>\n",
       "      <td>0.156500</td>\n",
       "      <td>0.055040</td>\n",
       "    </tr>\n",
       "    <tr>\n",
       "      <th>25%</th>\n",
       "      <td>11.700000</td>\n",
       "      <td>16.170000</td>\n",
       "      <td>75.170000</td>\n",
       "      <td>420.300000</td>\n",
       "      <td>0.086370</td>\n",
       "      <td>0.064920</td>\n",
       "      <td>0.029560</td>\n",
       "      <td>0.020310</td>\n",
       "      <td>0.161900</td>\n",
       "      <td>0.057700</td>\n",
       "      <td>...</td>\n",
       "      <td>13.010000</td>\n",
       "      <td>21.080000</td>\n",
       "      <td>84.110000</td>\n",
       "      <td>515.300000</td>\n",
       "      <td>0.116600</td>\n",
       "      <td>0.147200</td>\n",
       "      <td>0.114500</td>\n",
       "      <td>0.064930</td>\n",
       "      <td>0.250400</td>\n",
       "      <td>0.071460</td>\n",
       "    </tr>\n",
       "    <tr>\n",
       "      <th>50%</th>\n",
       "      <td>13.370000</td>\n",
       "      <td>18.840000</td>\n",
       "      <td>86.240000</td>\n",
       "      <td>551.100000</td>\n",
       "      <td>0.095870</td>\n",
       "      <td>0.092630</td>\n",
       "      <td>0.061540</td>\n",
       "      <td>0.033500</td>\n",
       "      <td>0.179200</td>\n",
       "      <td>0.061540</td>\n",
       "      <td>...</td>\n",
       "      <td>14.970000</td>\n",
       "      <td>25.410000</td>\n",
       "      <td>97.660000</td>\n",
       "      <td>686.500000</td>\n",
       "      <td>0.131300</td>\n",
       "      <td>0.211900</td>\n",
       "      <td>0.226700</td>\n",
       "      <td>0.099930</td>\n",
       "      <td>0.282200</td>\n",
       "      <td>0.080040</td>\n",
       "    </tr>\n",
       "    <tr>\n",
       "      <th>75%</th>\n",
       "      <td>15.780000</td>\n",
       "      <td>21.800000</td>\n",
       "      <td>104.100000</td>\n",
       "      <td>782.700000</td>\n",
       "      <td>0.105300</td>\n",
       "      <td>0.130400</td>\n",
       "      <td>0.130700</td>\n",
       "      <td>0.074000</td>\n",
       "      <td>0.195700</td>\n",
       "      <td>0.066120</td>\n",
       "      <td>...</td>\n",
       "      <td>18.790000</td>\n",
       "      <td>29.720000</td>\n",
       "      <td>125.400000</td>\n",
       "      <td>1084.000000</td>\n",
       "      <td>0.146000</td>\n",
       "      <td>0.339100</td>\n",
       "      <td>0.382900</td>\n",
       "      <td>0.161400</td>\n",
       "      <td>0.317900</td>\n",
       "      <td>0.092080</td>\n",
       "    </tr>\n",
       "    <tr>\n",
       "      <th>max</th>\n",
       "      <td>28.110000</td>\n",
       "      <td>39.280000</td>\n",
       "      <td>188.500000</td>\n",
       "      <td>2501.000000</td>\n",
       "      <td>0.163400</td>\n",
       "      <td>0.345400</td>\n",
       "      <td>0.426800</td>\n",
       "      <td>0.201200</td>\n",
       "      <td>0.304000</td>\n",
       "      <td>0.097440</td>\n",
       "      <td>...</td>\n",
       "      <td>36.040000</td>\n",
       "      <td>49.540000</td>\n",
       "      <td>251.200000</td>\n",
       "      <td>4254.000000</td>\n",
       "      <td>0.222600</td>\n",
       "      <td>1.058000</td>\n",
       "      <td>1.252000</td>\n",
       "      <td>0.291000</td>\n",
       "      <td>0.663800</td>\n",
       "      <td>0.207500</td>\n",
       "    </tr>\n",
       "  </tbody>\n",
       "</table>\n",
       "<p>8 rows × 30 columns</p>\n",
       "</div>"
      ],
      "text/plain": [
       "       mean radius  mean texture  mean perimeter    mean area  \\\n",
       "count   569.000000    569.000000      569.000000   569.000000   \n",
       "mean     14.127292     19.289649       91.969033   654.889104   \n",
       "std       3.524049      4.301036       24.298981   351.914129   \n",
       "min       6.981000      9.710000       43.790000   143.500000   \n",
       "25%      11.700000     16.170000       75.170000   420.300000   \n",
       "50%      13.370000     18.840000       86.240000   551.100000   \n",
       "75%      15.780000     21.800000      104.100000   782.700000   \n",
       "max      28.110000     39.280000      188.500000  2501.000000   \n",
       "\n",
       "       mean smoothness  mean compactness  mean concavity  mean concave points  \\\n",
       "count       569.000000        569.000000      569.000000           569.000000   \n",
       "mean          0.096360          0.104341        0.088799             0.048919   \n",
       "std           0.014064          0.052813        0.079720             0.038803   \n",
       "min           0.052630          0.019380        0.000000             0.000000   \n",
       "25%           0.086370          0.064920        0.029560             0.020310   \n",
       "50%           0.095870          0.092630        0.061540             0.033500   \n",
       "75%           0.105300          0.130400        0.130700             0.074000   \n",
       "max           0.163400          0.345400        0.426800             0.201200   \n",
       "\n",
       "       mean symmetry  mean fractal dimension  ...  worst radius  \\\n",
       "count     569.000000              569.000000  ...    569.000000   \n",
       "mean        0.181162                0.062798  ...     16.269190   \n",
       "std         0.027414                0.007060  ...      4.833242   \n",
       "min         0.106000                0.049960  ...      7.930000   \n",
       "25%         0.161900                0.057700  ...     13.010000   \n",
       "50%         0.179200                0.061540  ...     14.970000   \n",
       "75%         0.195700                0.066120  ...     18.790000   \n",
       "max         0.304000                0.097440  ...     36.040000   \n",
       "\n",
       "       worst texture  worst perimeter   worst area  worst smoothness  \\\n",
       "count     569.000000       569.000000   569.000000        569.000000   \n",
       "mean       25.677223       107.261213   880.583128          0.132369   \n",
       "std         6.146258        33.602542   569.356993          0.022832   \n",
       "min        12.020000        50.410000   185.200000          0.071170   \n",
       "25%        21.080000        84.110000   515.300000          0.116600   \n",
       "50%        25.410000        97.660000   686.500000          0.131300   \n",
       "75%        29.720000       125.400000  1084.000000          0.146000   \n",
       "max        49.540000       251.200000  4254.000000          0.222600   \n",
       "\n",
       "       worst compactness  worst concavity  worst concave points  \\\n",
       "count         569.000000       569.000000            569.000000   \n",
       "mean            0.254265         0.272188              0.114606   \n",
       "std             0.157336         0.208624              0.065732   \n",
       "min             0.027290         0.000000              0.000000   \n",
       "25%             0.147200         0.114500              0.064930   \n",
       "50%             0.211900         0.226700              0.099930   \n",
       "75%             0.339100         0.382900              0.161400   \n",
       "max             1.058000         1.252000              0.291000   \n",
       "\n",
       "       worst symmetry  worst fractal dimension  \n",
       "count      569.000000               569.000000  \n",
       "mean         0.290076                 0.083946  \n",
       "std          0.061867                 0.018061  \n",
       "min          0.156500                 0.055040  \n",
       "25%          0.250400                 0.071460  \n",
       "50%          0.282200                 0.080040  \n",
       "75%          0.317900                 0.092080  \n",
       "max          0.663800                 0.207500  \n",
       "\n",
       "[8 rows x 30 columns]"
      ]
     },
     "execution_count": 100,
     "metadata": {},
     "output_type": "execute_result"
    }
   ],
   "source": [
    "X.describe()"
   ]
  },
  {
   "cell_type": "code",
   "execution_count": 101,
   "id": "b175cca4",
   "metadata": {},
   "outputs": [
    {
     "data": {
      "text/plain": [
       "1    357\n",
       "0    212\n",
       "Name: diagnosis, dtype: int64"
      ]
     },
     "execution_count": 101,
     "metadata": {},
     "output_type": "execute_result"
    }
   ],
   "source": [
    "y[\"diagnosis\"].value_counts()"
   ]
  },
  {
   "cell_type": "markdown",
   "id": "39d21287",
   "metadata": {},
   "source": [
    "# Train/Test 데이터 분리 \n",
    "## Traning 데이터 70%/Testing 데이터 30% 나누기 "
   ]
  },
  {
   "cell_type": "code",
   "execution_count": 102,
   "id": "44918e8f",
   "metadata": {},
   "outputs": [
    {
     "name": "stdout",
     "output_type": "stream",
     "text": [
      "Train set dimension is (398, 30)\n",
      "Test set dimension is (171, 30)\n"
     ]
    }
   ],
   "source": [
    "#Train set/ Test set 나누기  #stratify=y 가 가진 뜻은 y가 가진 1,0이 비율에 맞게 나눠지도록 하는것\n",
    "X_train, X_test, y_train, y_test = train_test_split(X,y,stratify=y,test_size=0.3,random_state=2021)\n",
    "\n",
    "#데이터 칼럼 단위 정규화하기 \n",
    "normalizer = StandardScaler()\n",
    "X_train = normalizer.fit_transform(X_train)\n",
    "X_test = normalizer.transform(X_test)\n",
    "\n",
    "print(f'Train set dimension is {X_train.shape}')\n",
    "print(f'Test set dimension is {X_test.shape}')\n",
    "\n",
    "\n"
   ]
  },
  {
   "cell_type": "markdown",
   "id": "a2b53df4",
   "metadata": {},
   "source": [
    "# 모델링 \n",
    "## k 개수 결정 \n",
    "## Distance measure 결정 "
   ]
  },
  {
   "cell_type": "markdown",
   "id": "98304a9a",
   "metadata": {},
   "source": [
    "### k에 따른 결과 시각화로 확인해보기 \n",
    "#### k가 매우 작을 경우 overfitting k가 매우 클 경우 underfitting, 적절한 k값 찾아야함"
   ]
  },
  {
   "cell_type": "code",
   "execution_count": 103,
   "id": "5444e5ea",
   "metadata": {},
   "outputs": [
    {
     "data": {
      "image/png": "[encoded data removed]",
      "text/plain": [
       "<Figure size 720x720 with 1 Axes>"
      ]
     },
     "metadata": {
      "needs_background": "light"
     },
     "output_type": "display_data"
    },
    {
     "data": {
      "image/png": "[encoded data removed]",
      "text/plain": [
       "<Figure size 720x720 with 1 Axes>"
      ]
     },
     "metadata": {
      "needs_background": "light"
     },
     "output_type": "display_data"
    }
   ],
   "source": [
    "X_vis = X_train[:,:2]  #시각화를 위해 임의로 앞에 두개변수로 보여줌\n",
    "y_vis = y_train.values.ravel()\n",
    "\n",
    "h= .02\n",
    "\n",
    "# 컬러맵 만들기\n",
    "cmap_light = ListedColormap([\"#FFAAAA\", \"#AAFFAA\", \"#AAAAFF\"])\n",
    "cmap_bold = ListedColormap([\"#FF0000\",\"#00FF00\",\"#0000FF\"])\n",
    "\n",
    "for k in [1,50]:\n",
    "    clf = KNeighborsClassifier(n_neighbors = k)\n",
    "    clf.fit(X_vis,y_vis)\n",
    "    \n",
    "    x_min, x_max = X_vis[:,0].min() - 1, X_vis[:,0].max() + 1\n",
    "    y_min, y_max = X_vis[:,1].min() - 1, X_vis[:,1].max() + 1\n",
    "    xx, yy = np.meshgrid(np.arange(x_min, x_max, h), np.arange(y_min, y_max, h))\n",
    "    Z = clf.predict(np.c_[xx.ravel(), yy.ravel()])\n",
    "    \n",
    "    Z = Z.reshape(xx.shape)\n",
    "    plt.figure(figsize=(10,10))\n",
    "    plt.pcolormesh(xx,yy,Z,cmap = cmap_light)\n",
    "    \n",
    "    plt.scatter(X_vis[:,0], X_vis[:,1], c=y_vis, cmap=cmap_bold)\n",
    "    plt.xlim(xx.min(), xx.max())\n",
    "    plt.ylim(yy.min(), yy.max())\n",
    "    \n"
   ]
  },
  {
   "cell_type": "markdown",
   "id": "af206c22",
   "metadata": {},
   "source": [
    "## 4.1 Hyperparameter k 결정"
   ]
  },
  {
   "cell_type": "code",
   "execution_count": 104,
   "id": "bcb2dc4a",
   "metadata": {},
   "outputs": [
    {
     "name": "stderr",
     "output_type": "stream",
     "text": [
      "100%|██████████████████████████████████████████████████████████████████████████████████| 50/50 [00:01<00:00, 29.92it/s]\n"
     ]
    }
   ],
   "source": [
    "k_list = [i for i in range(1,100) if i%2 != 0] #이건 홀수만 탐색해본거 다해도됨\n",
    "cv_scores = []\n",
    "\n",
    "for k in tqdm(k_list):\n",
    "    classifier = KNeighborsClassifier(n_neighbors = k,p=2) #p=1: manhatten_distance, p=2: euclidean_distance, p=1_p : minkowski_distance\n",
    "    \n",
    "    scores = cross_val_score(classifier, X_train, y_train, cv=10, scoring =\"accuracy\")\n",
    "    cv_scores.append(scores.mean())\n",
    "    "
   ]
  },
  {
   "cell_type": "code",
   "execution_count": 105,
   "id": "969a85c5",
   "metadata": {},
   "outputs": [
    {
     "data": {
      "text/plain": [
       "[0.9446794871794871,\n",
       " 0.9548076923076924,\n",
       " 0.9597435897435898,\n",
       " 0.9496794871794872,\n",
       " 0.9522435897435898,\n",
       " 0.9496794871794872,\n",
       " 0.9445512820512821,\n",
       " 0.9445512820512821,\n",
       " 0.9420512820512821,\n",
       " 0.9420512820512821,\n",
       " 0.9420512820512821,\n",
       " 0.9420512820512821,\n",
       " 0.9446153846153846,\n",
       " 0.9471153846153847,\n",
       " 0.9471153846153847,\n",
       " 0.9446153846153846,\n",
       " 0.9421153846153846,\n",
       " 0.939551282051282,\n",
       " 0.939551282051282,\n",
       " 0.9420512820512821,\n",
       " 0.9420512820512821,\n",
       " 0.9420512820512821,\n",
       " 0.9394871794871795,\n",
       " 0.9369871794871795,\n",
       " 0.9394871794871795,\n",
       " 0.9369871794871795,\n",
       " 0.9369871794871795,\n",
       " 0.9369871794871795,\n",
       " 0.9369871794871795,\n",
       " 0.9369871794871795,\n",
       " 0.9344871794871794,\n",
       " 0.9319871794871796,\n",
       " 0.9344871794871794,\n",
       " 0.9344871794871794,\n",
       " 0.9294871794871795,\n",
       " 0.9244871794871795,\n",
       " 0.9244871794871795,\n",
       " 0.9244871794871795,\n",
       " 0.9194230769230771,\n",
       " 0.921923076923077,\n",
       " 0.924423076923077,\n",
       " 0.926923076923077,\n",
       " 0.921923076923077,\n",
       " 0.9194230769230771,\n",
       " 0.9194230769230771,\n",
       " 0.9194230769230771,\n",
       " 0.9194230769230771,\n",
       " 0.9194230769230771,\n",
       " 0.9194230769230771,\n",
       " 0.9169230769230771]"
      ]
     },
     "execution_count": 105,
     "metadata": {},
     "output_type": "execute_result"
    }
   ],
   "source": [
    "cv_scores"
   ]
  },
  {
   "cell_type": "code",
   "execution_count": 106,
   "id": "5489b1bd",
   "metadata": {
    "scrolled": true
   },
   "outputs": [
    {
     "name": "stdout",
     "output_type": "stream",
     "text": [
      "Best k value : [5]\n"
     ]
    }
   ],
   "source": [
    "best_k = [k_list[i] for i in range(len(cv_scores)) if cv_scores[i] == np.max(cv_scores)]\n",
    "print(\"Best k value :\", best_k)"
   ]
  },
  {
   "cell_type": "code",
   "execution_count": 107,
   "id": "43d85eb0",
   "metadata": {},
   "outputs": [
    {
     "data": {
      "text/plain": [
       "<function matplotlib.pyplot.show(close=None, block=None)>"
      ]
     },
     "execution_count": 107,
     "metadata": {},
     "output_type": "execute_result"
    },
    {
     "data": {
      "image/png": "[encoded data removed]",
      "text/plain": [
       "<Figure size 1440x720 with 1 Axes>"
      ]
     },
     "metadata": {
      "needs_background": "light"
     },
     "output_type": "display_data"
    }
   ],
   "source": [
    "plt.figure(figsize=(20,10))\n",
    "plt.plot(k_list, cv_scores, marker=\"o\", linestyle=\"dashed\")\n",
    "plt.legend([\"Cross validation scores\"], fontsize=20)\n",
    "plt.xlabel(\"k value\", fontsize = 20)\n",
    "plt.ylabel(\"Accuracy\",fontsize = 20)\n",
    "plt.title(\"Accuracy Score\",fontsize=25)\n",
    "plt.axvline(best_k[0], color=\"r\", linestyle = \"--\", linewidth=2)\n",
    "plt.show\n",
    "\n"
   ]
  },
  {
   "cell_type": "markdown",
   "id": "45ad8885",
   "metadata": {},
   "source": [
    "# 4.2 Distance type 결정\n",
    "\n",
    "### 4.2.1 Euclidean Distance\n",
    "\n",
    "# Distance measures\n",
    "## Euclidean distance\n",
    "## - 가장 흔히 사용되는 거리측도 \n",
    "## - 대응되는 x,y값 간 차이 제곱합의 제곱근으로써, 두 관측치       사이의 직선 거리를 의미\n"
   ]
  },
  {
   "cell_type": "code",
   "execution_count": 108,
   "id": "48b3f619",
   "metadata": {},
   "outputs": [
    {
     "name": "stderr",
     "output_type": "stream",
     "text": [
      "100%|██████████████████████████████████████████████████████████████████████████████████| 50/50 [00:01<00:00, 30.20it/s]\n"
     ]
    }
   ],
   "source": [
    "k_list = [i for i in range(1,100) if i%2 != 0] #이건 홀수만 탐색해본거 다해도됨\n",
    "\n",
    "euc = []\n",
    "for k in tqdm(k_list):\n",
    "    classifier = KNeighborsClassifier(n_neighbors = k,p=2) #p=1: manhatten_distance, p=2: euclidean_distance, p=1_p : minkowski_distance\n",
    "    scores = cross_val_score(classifier, X_train, y_train, cv=10, scoring =\"accuracy\")\n",
    "    euc.append(scores.mean())"
   ]
  },
  {
   "cell_type": "code",
   "execution_count": 109,
   "id": "d67a233c",
   "metadata": {},
   "outputs": [
    {
     "data": {
      "text/plain": [
       "[0.9446794871794871,\n",
       " 0.9548076923076924,\n",
       " 0.9597435897435898,\n",
       " 0.9496794871794872,\n",
       " 0.9522435897435898,\n",
       " 0.9496794871794872,\n",
       " 0.9445512820512821,\n",
       " 0.9445512820512821,\n",
       " 0.9420512820512821,\n",
       " 0.9420512820512821,\n",
       " 0.9420512820512821,\n",
       " 0.9420512820512821,\n",
       " 0.9446153846153846,\n",
       " 0.9471153846153847,\n",
       " 0.9471153846153847,\n",
       " 0.9446153846153846,\n",
       " 0.9421153846153846,\n",
       " 0.939551282051282,\n",
       " 0.939551282051282,\n",
       " 0.9420512820512821,\n",
       " 0.9420512820512821,\n",
       " 0.9420512820512821,\n",
       " 0.9394871794871795,\n",
       " 0.9369871794871795,\n",
       " 0.9394871794871795,\n",
       " 0.9369871794871795,\n",
       " 0.9369871794871795,\n",
       " 0.9369871794871795,\n",
       " 0.9369871794871795,\n",
       " 0.9369871794871795,\n",
       " 0.9344871794871794,\n",
       " 0.9319871794871796,\n",
       " 0.9344871794871794,\n",
       " 0.9344871794871794,\n",
       " 0.9294871794871795,\n",
       " 0.9244871794871795,\n",
       " 0.9244871794871795,\n",
       " 0.9244871794871795,\n",
       " 0.9194230769230771,\n",
       " 0.921923076923077,\n",
       " 0.924423076923077,\n",
       " 0.926923076923077,\n",
       " 0.921923076923077,\n",
       " 0.9194230769230771,\n",
       " 0.9194230769230771,\n",
       " 0.9194230769230771,\n",
       " 0.9194230769230771,\n",
       " 0.9194230769230771,\n",
       " 0.9194230769230771,\n",
       " 0.9169230769230771]"
      ]
     },
     "execution_count": 109,
     "metadata": {},
     "output_type": "execute_result"
    }
   ],
   "source": [
    "euc"
   ]
  },
  {
   "cell_type": "markdown",
   "id": "96fb62a4",
   "metadata": {},
   "source": [
    "## 4.2.2 Manhatten Distance\n",
    "\n",
    "### x에서 y로 이동 시 각 좌표축 방향으로만 이동할 경우에 계산되는거리"
   ]
  },
  {
   "cell_type": "code",
   "execution_count": 110,
   "id": "8b513aae",
   "metadata": {},
   "outputs": [
    {
     "name": "stderr",
     "output_type": "stream",
     "text": [
      "100%|██████████████████████████████████████████████████████████████████████████████████| 50/50 [00:01<00:00, 30.38it/s]\n"
     ]
    }
   ],
   "source": [
    "k_list = [i for i in range(1,100) if i%2 != 0]\n",
    "\n",
    "nan = []\n",
    "for k in tqdm(k_list):\n",
    "    classifier = KNeighborsClassifier(n_neighbors = k, p=1)\n",
    "    scores = cross_val_score(classifier, X_train, y_train, cv=10, scoring = \"accuracy\")\n",
    "    nan.append(scores.mean())\n",
    "    "
   ]
  },
  {
   "cell_type": "code",
   "execution_count": 111,
   "id": "c1554de2",
   "metadata": {},
   "outputs": [
    {
     "data": {
      "text/plain": [
       "[0.9446794871794871,\n",
       " 0.9597435897435898,\n",
       " 0.9521794871794873,\n",
       " 0.9446153846153846,\n",
       " 0.9369871794871795,\n",
       " 0.9444871794871796,\n",
       " 0.9420512820512821,\n",
       " 0.9419871794871796,\n",
       " 0.9445512820512821,\n",
       " 0.947051282051282,\n",
       " 0.9445512820512821,\n",
       " 0.9445512820512821,\n",
       " 0.9445512820512821,\n",
       " 0.9445512820512821,\n",
       " 0.9445512820512821,\n",
       " 0.9445512820512821,\n",
       " 0.9419871794871796,\n",
       " 0.9419871794871796,\n",
       " 0.9394871794871795,\n",
       " 0.9419871794871796,\n",
       " 0.9419871794871796,\n",
       " 0.9394871794871795,\n",
       " 0.9369871794871795,\n",
       " 0.9394871794871795,\n",
       " 0.9394871794871795,\n",
       " 0.9394871794871795,\n",
       " 0.9394871794871795,\n",
       " 0.9394871794871795,\n",
       " 0.9394871794871795,\n",
       " 0.9369871794871795,\n",
       " 0.9319871794871796,\n",
       " 0.9369871794871795,\n",
       " 0.9319871794871796,\n",
       " 0.9319871794871796,\n",
       " 0.9319871794871796,\n",
       " 0.9319871794871796,\n",
       " 0.9269871794871796,\n",
       " 0.9269871794871796,\n",
       " 0.9244871794871795,\n",
       " 0.921923076923077,\n",
       " 0.921923076923077,\n",
       " 0.921923076923077,\n",
       " 0.921923076923077,\n",
       " 0.921923076923077,\n",
       " 0.921923076923077,\n",
       " 0.921923076923077,\n",
       " 0.9194230769230771,\n",
       " 0.9194230769230771,\n",
       " 0.9194230769230771,\n",
       " 0.9194230769230771]"
      ]
     },
     "execution_count": 111,
     "metadata": {},
     "output_type": "execute_result"
    }
   ],
   "source": [
    "nan"
   ]
  },
  {
   "cell_type": "markdown",
   "id": "aaa843de",
   "metadata": {},
   "source": [
    "## 4.2.3 Mahalanobis Distance\n",
    "\n",
    "### 변수 내 분산, 변수 간 공분산을 모두 반영하여 x,y 거리계산\n",
    "### 데이터의 convariance matrix가 단위행렬이면 유클리드와 같음"
   ]
  },
  {
   "cell_type": "code",
   "execution_count": 112,
   "id": "a21d20a0",
   "metadata": {},
   "outputs": [
    {
     "name": "stderr",
     "output_type": "stream",
     "text": [
      "100%|██████████████████████████████████████████████████████████████████████████████████| 50/50 [00:11<00:00,  4.30it/s]\n"
     ]
    }
   ],
   "source": [
    "y_train = y_train.values.ravel()\n",
    "kf = KFold(n_splits=10)\n",
    "kf.get_n_splits(X_train)\n",
    "\n",
    "k_list = [i for i in range(1,100) if i%2 !=0]\n",
    "\n",
    "mah = []\n",
    "for k in tqdm(k_list):\n",
    "    mah_acc =[]\n",
    "    for train_index, valid_index in kf.split(X_train):\n",
    "        X_train_f = X_train[train_index]\n",
    "        y_train_f = y_train[train_index]\n",
    "        \n",
    "        X_valid_f = X_train[valid_index]\n",
    "        y_valid_f = y_train[valid_index]\n",
    "        \n",
    "        total = len(y_valid_f)\n",
    "        correct = 0\n",
    "        \n",
    "        nn = NearestNeighbors(algorithm=\"brute\", metric=\"mahalanobis\",\n",
    "                              metric_params={\"V\":np.cov(X_train_f, rowvar=False)}, n_neighbors=k)\n",
    "        nn_nodel = nn.fit(X_train_f, y_train_f)\n",
    "        \n",
    "        for v in range(len(X_valid_f)):\n",
    "            distance, indices = nn_nodel.kneighbors(X_valid_f[v].reshape(1,-1))\n",
    "            \n",
    "            class_list = {\"0\":0, \"1\":0}\n",
    "            for i in range(len(indices[0])):\n",
    "                if y_train_f[indices[0][i]] == 0 :\n",
    "                    class_list[\"0\"] += 1\n",
    "                else:\n",
    "                    class_list[\"1\"] += 1\n",
    "                    \n",
    "            max_key = np.int(max(class_list, key=class_list.get))\n",
    "            if max_key == y_valid_f[v]:\n",
    "                correct += 1\n",
    "                \n",
    "        mah_acc.append(correct/total)\n",
    "    mah.append(np.mean(mah_acc))\n",
    "    \n",
    "        \n",
    "        "
   ]
  },
  {
   "cell_type": "code",
   "execution_count": 113,
   "id": "5e112121",
   "metadata": {},
   "outputs": [
    {
     "data": {
      "text/plain": [
       "[0.7964102564102564,\n",
       " 0.786474358974359,\n",
       " 0.7739102564102565,\n",
       " 0.7638461538461538,\n",
       " 0.7362179487179488,\n",
       " 0.7337179487179487,\n",
       " 0.7160897435897435,\n",
       " 0.7060897435897436,\n",
       " 0.6960256410256411,\n",
       " 0.6810256410256411,\n",
       " 0.6734615384615384,\n",
       " 0.673397435897436,\n",
       " 0.6632692307692308,\n",
       " 0.6582692307692308,\n",
       " 0.650769230769231,\n",
       " 0.6482692307692309,\n",
       " 0.6482692307692309,\n",
       " 0.6457692307692309,\n",
       " 0.6432692307692308,\n",
       " 0.6382692307692308,\n",
       " 0.6307692307692309,\n",
       " 0.6307692307692309,\n",
       " 0.6307692307692309,\n",
       " 0.6307692307692309,\n",
       " 0.6307692307692309,\n",
       " 0.6282692307692308,\n",
       " 0.6282692307692308,\n",
       " 0.6282692307692308,\n",
       " 0.6282692307692308,\n",
       " 0.6282692307692308,\n",
       " 0.6282692307692308,\n",
       " 0.6282692307692308,\n",
       " 0.6282692307692308,\n",
       " 0.6282692307692308,\n",
       " 0.6282692307692308,\n",
       " 0.6282692307692308,\n",
       " 0.6282692307692308,\n",
       " 0.6282692307692308,\n",
       " 0.6282692307692308,\n",
       " 0.6282692307692308,\n",
       " 0.6282692307692308,\n",
       " 0.6282692307692308,\n",
       " 0.6282692307692308,\n",
       " 0.6282692307692308,\n",
       " 0.6282692307692308,\n",
       " 0.6282692307692308,\n",
       " 0.6282692307692308,\n",
       " 0.6282692307692308,\n",
       " 0.6282692307692308,\n",
       " 0.6282692307692308]"
      ]
     },
     "execution_count": 113,
     "metadata": {},
     "output_type": "execute_result"
    }
   ],
   "source": [
    "mah"
   ]
  },
  {
   "cell_type": "markdown",
   "id": "073dca43",
   "metadata": {},
   "source": [
    "## 4.2.4 Correlation Distance - Pearson Correlation\n",
    "\n",
    "### - 데이터간 Pearson correlation을 거리측도로 사용하는 방식\n",
    "### - 데이터 패턴의 유사도를 반영할 수 있음"
   ]
  },
  {
   "cell_type": "code",
   "execution_count": 115,
   "id": "f63f9cb1",
   "metadata": {},
   "outputs": [
    {
     "name": "stderr",
     "output_type": "stream",
     "text": [
      "100%|██████████████████████████████████████████████████████████████████████████████████| 50/50 [00:09<00:00,  5.50it/s]\n"
     ]
    }
   ],
   "source": [
    "kf = KFold(n_splits=10)\n",
    "kf.get_n_splits(X_train)\n",
    "\n",
    "k_list = [i for i in range(1,100) if i%2 !=0]\n",
    "\n",
    "pear = []\n",
    "for k in tqdm(k_list):\n",
    "    pear_acc =[]\n",
    "    for train_index, valid_index in kf.split(X_train):\n",
    "        X_train_f = X_train[train_index]\n",
    "        y_train_f = y_train[train_index]\n",
    "        \n",
    "        X_valid_f = X_train[valid_index]\n",
    "        y_valid_f = y_train[valid_index]\n",
    "        \n",
    "        total = len(y_valid_f)\n",
    "        correct = 0\n",
    "        \n",
    "        nn = NearestNeighbors(metric=\"correlation\", n_neighbors=k)\n",
    "        nn_nodel = nn.fit(X_train_f, y_train_f)\n",
    "        \n",
    "        for v in range(len(X_valid_f)):\n",
    "            distance, indices = nn_nodel.kneighbors(X_valid_f[v].reshape(1,-1))\n",
    "            \n",
    "            class_list = {\"0\":0, \"1\":0}\n",
    "            for i in range(len(indices[0])):\n",
    "                if y_train_f[indices[0][i]] == 0 :\n",
    "                    class_list[\"0\"] += 1\n",
    "                else:\n",
    "                    class_list[\"1\"] += 1\n",
    "                    \n",
    "            max_key = np.int(max(class_list, key=class_list.get))\n",
    "            if max_key == y_valid_f[v]:\n",
    "                correct += 1\n",
    "                \n",
    "        pear_acc.append(correct/total)\n",
    "    pear.append(np.mean(pear_acc))"
   ]
  },
  {
   "cell_type": "code",
   "execution_count": 116,
   "id": "5515eef8",
   "metadata": {},
   "outputs": [
    {
     "data": {
      "text/plain": [
       "[0.8113461538461539,\n",
       " 0.8442307692307691,\n",
       " 0.8266666666666665,\n",
       " 0.8342307692307692,\n",
       " 0.8390384615384615,\n",
       " 0.8341025641025641,\n",
       " 0.8466666666666667,\n",
       " 0.838974358974359,\n",
       " 0.823974358974359,\n",
       " 0.8315384615384614,\n",
       " 0.823974358974359,\n",
       " 0.8316025641025642,\n",
       " 0.8366025641025641,\n",
       " 0.8316666666666667,\n",
       " 0.8316025641025642,\n",
       " 0.826602564102564,\n",
       " 0.8341025641025641,\n",
       " 0.839102564102564,\n",
       " 0.8264743589743591,\n",
       " 0.8315384615384616,\n",
       " 0.8316025641025642,\n",
       " 0.8265384615384616,\n",
       " 0.8291025641025641,\n",
       " 0.826602564102564,\n",
       " 0.8216025641025639,\n",
       " 0.816602564102564,\n",
       " 0.8141025641025641,\n",
       " 0.8190384615384614,\n",
       " 0.8191025641025641,\n",
       " 0.8165384615384615,\n",
       " 0.8140384615384615,\n",
       " 0.8116025641025642,\n",
       " 0.811602564102564,\n",
       " 0.8065384615384614,\n",
       " 0.8065384615384614,\n",
       " 0.809102564102564,\n",
       " 0.8040384615384616,\n",
       " 0.809102564102564,\n",
       " 0.8066025641025641,\n",
       " 0.8065384615384614,\n",
       " 0.801474358974359,\n",
       " 0.7989102564102564,\n",
       " 0.7989102564102564,\n",
       " 0.7965384615384614,\n",
       " 0.7990384615384615,\n",
       " 0.7990384615384615,\n",
       " 0.7990384615384615,\n",
       " 0.8015384615384615,\n",
       " 0.7914743589743589,\n",
       " 0.7914743589743589]"
      ]
     },
     "execution_count": 116,
     "metadata": {},
     "output_type": "execute_result"
    }
   ],
   "source": [
    "pear"
   ]
  },
  {
   "cell_type": "markdown",
   "id": "836aefb8",
   "metadata": {},
   "source": [
    "## 4.2.5 Spearman rank correlation distance\n",
    "### - p=Spearman correlation, 데이터의 rank를 이용하여 거리계산\n",
    "### - p의 범위는 -1부터 1롸, Pearson correlation과 동일 "
   ]
  },
  {
   "cell_type": "code",
   "execution_count": 119,
   "id": "2339f3b1",
   "metadata": {},
   "outputs": [
    {
     "name": "stderr",
     "output_type": "stream",
     "text": [
      "100%|██████████████████████████████████████████████████████████████████████████████████| 50/50 [40:53<00:00, 49.06s/it]\n"
     ]
    }
   ],
   "source": [
    "def spearmancorr(x,y):\n",
    "    rho, pval = spearmanr(x,y,axis=0)\n",
    "    return 1-rho\n",
    "\n",
    "kf = KFold(n_splits=10)\n",
    "kf.get_n_splits(X_train)\n",
    "\n",
    "k_list = [i for i in range(1,100) if i%2 !=0]\n",
    "\n",
    "spear = []\n",
    "for k in tqdm(k_list):\n",
    "    spear_acc =[]\n",
    "    for train_index, valid_index in kf.split(X_train):\n",
    "        X_train_f = X_train[train_index]\n",
    "        y_train_f = y_train[train_index]\n",
    "        \n",
    "        X_valid_f = X_train[valid_index]\n",
    "        y_valid_f = y_train[valid_index]\n",
    "        \n",
    "        total = len(y_valid_f)\n",
    "        correct = 0\n",
    "        \n",
    "        nn = NearestNeighbors(metric=spearmancorr, algorithm=\"ball_tree\")\n",
    "        nn_nodel = nn.fit(X_train_f, y_train_f)\n",
    "        \n",
    "        for v in range(len(X_valid_f)):\n",
    "            distance, indices = nn_nodel.kneighbors(X_valid_f[v].reshape(1,-1))\n",
    "            \n",
    "            class_list = {\"0\":0, \"1\":0}\n",
    "            for i in range(len(indices[0])):\n",
    "                if y_train_f[indices[0][i]] == 0 :\n",
    "                    class_list[\"0\"] += 1\n",
    "                else:\n",
    "                    class_list[\"1\"] += 1\n",
    "                    \n",
    "            max_key = np.int(max(class_list, key=class_list.get))\n",
    "            if max_key == y_valid_f[v]:\n",
    "                correct += 1\n",
    "                \n",
    "        spear_acc.append(correct/total)\n",
    "    spear.append(np.mean(spear_acc))"
   ]
  },
  {
   "cell_type": "markdown",
   "id": "7614bf72",
   "metadata": {},
   "source": [
    "## 비교하기 위해 시각화"
   ]
  },
  {
   "cell_type": "code",
   "execution_count": 123,
   "id": "2d34cb13",
   "metadata": {},
   "outputs": [
    {
     "data": {
      "image/png": "[encoded data removed]",
      "text/plain": [
       "<Figure size 1080x720 with 1 Axes>"
      ]
     },
     "metadata": {
      "needs_background": "light"
     },
     "output_type": "display_data"
    }
   ],
   "source": [
    "plt.figure(figsize=(15,10))\n",
    "plt.plot(k_list, euc, marker=\"o\")\n",
    "plt.plot(k_list, nan, linestyle=\"dashed\", marker=\"p\")\n",
    "plt.plot(k_list, mah, marker = \"s\")\n",
    "plt.plot(k_list, pear, marker = \"d\")\n",
    "plt.plot(k_list, spear, marker = \"v\")\n",
    "plt.axvline(5, color=\"r\", linestyle=\"--\", linewidth=2)\n",
    "plt.xlabel(\"k value\")\n",
    "plt.ylabel(\"Cross validation scores\")\n",
    "plt.title(\"Comparison by distance measures\")\n",
    "plt.legend([\"Euclidean\",\"Manhattan\",\"Mahlanobis\",\"Pearson Corr\",\"Spearman Rank Corr\"])\n",
    "plt.show()"
   ]
  },
  {
   "cell_type": "markdown",
   "id": "b9303f69",
   "metadata": {},
   "source": [
    "## 결국 가장 적합한 하이퍼파라미터는\n",
    "## Distance measures = Euclidean distance\n",
    "## K=5 "
   ]
  },
  {
   "cell_type": "markdown",
   "id": "9b76ba7c",
   "metadata": {},
   "source": [
    "# -------------------------------------------------"
   ]
  },
  {
   "cell_type": "markdown",
   "id": "5bd14e38",
   "metadata": {},
   "source": [
    "## 4.2 최종 모델 선정 및 성능 확인"
   ]
  },
  {
   "cell_type": "code",
   "execution_count": 124,
   "id": "54ef1bce",
   "metadata": {},
   "outputs": [
    {
     "name": "stdout",
     "output_type": "stream",
     "text": [
      "정확도:0.98 | 민감도:0.99 | 정밀도:0.97\n"
     ]
    }
   ],
   "source": [
    "classifier = KNeighborsClassifier(n_neighbors = 5,p=2) #p=1: manhatten_distance, p=2: euclidean_distance, p=1_p : minkowski_distance\n",
    "classifier.fit(X_train, y_train)\n",
    "y_pred = classifier.predict(X_test)  ##x 테스트셋에대해 예측을 수행, 분류모델이니 정확도,민감도,정밀도\n",
    "\n",
    "acc = accuracy_score(y_true = y_test, y_pred = y_pred) ##정확도 테스트\n",
    "recall = recall_score(y_true = y_test, y_pred = y_pred) ## 민감도\n",
    "precision = precision_score(y_true = y_test, y_pred = y_pred) ## 정밀도\n",
    "\n",
    "print(f\"정확도:{acc:0.2f}\",f\"민감도:{recall:0.2f}\",f\"정밀도:{precision:0.2f}\",sep=\" | \")\n"
   ]
  },
  {
   "cell_type": "markdown",
   "id": "c825becf",
   "metadata": {},
   "source": [
    "## 4.3 Weighted KNN 적용 및 성능확인\n"
   ]
  },
  {
   "cell_type": "code",
   "execution_count": 127,
   "id": "f4072012",
   "metadata": {},
   "outputs": [
    {
     "name": "stderr",
     "output_type": "stream",
     "text": [
      "100%|██████████████████████████████████████████████████████████████████████████████████| 50/50 [00:01<00:00, 45.26it/s]\n"
     ]
    },
    {
     "name": "stdout",
     "output_type": "stream",
     "text": [
      "Best k value : [5]\n"
     ]
    },
    {
     "data": {
      "image/png": "[encoded data removed]",
      "text/plain": [
       "<Figure size 1440x720 with 1 Axes>"
      ]
     },
     "metadata": {
      "needs_background": "light"
     },
     "output_type": "display_data"
    }
   ],
   "source": [
    "k_list = [i for i in range(1,100) if i%2 != 0] #이건 홀수만 탐색해본거 다해도됨\n",
    "\n",
    "euc = []\n",
    "for k in tqdm(k_list):\n",
    "    classifier = KNeighborsClassifier(n_neighbors = k,p=2, weights=\"distance\") #weight 적용안하면 uniform, weight 적용할거면 distance를 넣어라\n",
    "    scores = cross_val_score(classifier, X_train, y_train, cv=10, scoring =\"accuracy\")\n",
    "    euc.append(scores.mean())\n",
    "    \n",
    "best_k = [k_list[i] for i in range(len(cv_scores)) if cv_scores[i] == np.max(cv_scores)]\n",
    "print(\"Best k value :\", best_k)\n",
    "    \n",
    "plt.figure(figsize=(20,10))\n",
    "plt.plot(k_list, cv_scores, marker=\"o\", linestyle=\"dashed\")\n",
    "plt.legend([\"Cross validation scores\"], fontsize = 20)\n",
    "plt.xlabel(\"k value\", fontsize = 20 )\n",
    "plt.ylabel(\"Accuracy\", fontsize = 20)\n",
    "plt.title(\"Accuracy Score\", fontsize = 20)\n",
    "plt.axvline(best_k[0], color = \"r\", linestyle=\"--\", linewidth=2)\n",
    "plt.show()"
   ]
  },
  {
   "cell_type": "code",
   "execution_count": 128,
   "id": "f575c8ed",
   "metadata": {},
   "outputs": [
    {
     "name": "stdout",
     "output_type": "stream",
     "text": [
      "정확도:0.98 | 민감도:0.99 | 정밀도:0.97\n"
     ]
    }
   ],
   "source": [
    "classifier = KNeighborsClassifier(n_neighbors = 5,p=2, weights=\"distance\") #p=1: manhatten_distance, p=2: euclidean_distance, p=1_p : minkowski_distance\n",
    "classifier.fit(X_train, y_train)\n",
    "y_pred = classifier.predict(X_test)  ##x 테스트셋에대해 예측을 수행, 분류모델이니 정확도,민감도,정밀도\n",
    "\n",
    "acc = accuracy_score(y_true = y_test, y_pred = y_pred) ##정확도 테스트\n",
    "recall = recall_score(y_true = y_test, y_pred = y_pred) ## 민감도\n",
    "precision = precision_score(y_true = y_test, y_pred = y_pred) ## 정밀도\n",
    "\n",
    "print(f\"정확도:{acc:0.2f}\",f\"민감도:{recall:0.2f}\",f\"정밀도:{precision:0.2f}\",sep=\" | \")"
   ]
  },
  {
   "cell_type": "markdown",
   "id": "682bf223",
   "metadata": {},
   "source": [
    "## 위까지 분류모델이었음, 만약 Regression(예측모델)이면?\n",
    "### *임포트와 scoring 등이 달라짐 "
   ]
  },
  {
   "cell_type": "code",
   "execution_count": 131,
   "id": "f23ea7f3",
   "metadata": {},
   "outputs": [
    {
     "name": "stderr",
     "output_type": "stream",
     "text": [
      "100%|██████████████████████████████████████████████████████████████████████████████████| 50/50 [00:04<00:00, 11.53it/s]\n"
     ]
    },
    {
     "name": "stdout",
     "output_type": "stream",
     "text": [
      "Best k value : [3]\n"
     ]
    },
    {
     "data": {
      "image/png": "[encoded data removed]",
      "text/plain": [
       "<Figure size 1440x720 with 1 Axes>"
      ]
     },
     "metadata": {
      "needs_background": "light"
     },
     "output_type": "display_data"
    }
   ],
   "source": [
    "from sklearn.neighbors import KNeighborsRegressor \n",
    "from sklearn.datasets import load_boston \n",
    "boston = load_boston()\n",
    "\n",
    "#데이터 프레임 형태로 변환 \n",
    "X = pd.DataFrame(boston.data, columns =boston.feature_names)\n",
    "y = pd.DataFrame(boston.target, columns = [\"MEDV\"])\n",
    "\n",
    "X_train, X_test, y_train, y_test = train_test_split(X,y,test_size=0.3, random_state=2021)\n",
    "\n",
    "k_list = [ i for i in range(1,100) if i%2 !=0]\n",
    "cv_scores = []\n",
    "for k in tqdm(k_list):\n",
    "    regressor = KNeighborsRegressor(n_neighbors = k, p =2)\n",
    "    \n",
    "    scores = cross_val_score(regressor, X_train, y_train, cv=10, scoring=\"r2\")\n",
    "    cv_scores.append(scores.mean())\n",
    "    \n",
    "best_k = [k_list[i] for i in range(len(cv_scores)) if cv_scores[i] == np.max(cv_scores)]\n",
    "print(\"Best k value :\", best_k)\n",
    "\n",
    "plt.figure(figsize=(20,10))\n",
    "plt.plot(k_list, cv_scores, marker=\"o\", linestyle=\"dashed\")\n",
    "plt.legend([\"Cross validation scores\"], fontsize = 20)\n",
    "plt.xlabel(\"k value\", fontsize = 20 )\n",
    "plt.ylabel(\"r2\", fontsize = 20)\n",
    "plt.title(\"r2 Score\", fontsize = 25)\n",
    "plt.axvline(best_k[0], color = \"r\", linestyle=\"--\", linewidth=2)\n",
    "plt.show()\n"
   ]
  }
 ],
 "metadata": {
  "kernelspec": {
   "display_name": "Python 3",
   "language": "python",
   "name": "python3"
  },
  "language_info": {
   "codemirror_mode": {
    "name": "ipython",
    "version": 3
   },
   "file_extension": ".py",
   "mimetype": "text/x-python",
   "name": "python",
   "nbconvert_exporter": "python",
   "pygments_lexer": "ipython3",
   "version": "3.8.8"
  }
 },
 "nbformat": 4,
 "nbformat_minor": 5
}
